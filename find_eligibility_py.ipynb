{
  "nbformat": 4,
  "nbformat_minor": 0,
  "metadata": {
    "colab": {
      "name": "find_eligibility.py",
      "provenance": [],
      "collapsed_sections": [],
      "authorship_tag": "ABX9TyPTi4hwmv805BKl5eKHfbdn",
      "include_colab_link": true
    },
    "kernelspec": {
      "name": "python3",
      "display_name": "Python 3"
    },
    "language_info": {
      "name": "python"
    }
  },
  "cells": [
    {
      "cell_type": "markdown",
      "metadata": {
        "id": "view-in-github",
        "colab_type": "text"
      },
      "source": [
        "<a href=\"https://colab.research.google.com/github/maheshsb1/PYTHON-PROJECT/blob/main/find_eligibility_py.ipynb\" target=\"_parent\"><img src=\"https://colab.research.google.com/assets/colab-badge.svg\" alt=\"Open In Colab\"/></a>"
      ]
    },
    {
      "cell_type": "markdown",
      "source": [
        "#Find Eligibility"
      ],
      "metadata": {
        "id": "3OWijV5j9UQK"
      }
    },
    {
      "cell_type": "code",
      "execution_count": 7,
      "metadata": {
        "colab": {
          "base_uri": "https://localhost:8080/"
        },
        "id": "5cEhWAc59S3q",
        "outputId": "af765c79-4a6b-45c7-9ccc-7d6947406f29"
      },
      "outputs": [
        {
          "output_type": "stream",
          "name": "stdout",
          "text": [
            "***| Name of Eligible Candidates on the basis of 12th % |***\n",
            "('Amit', 'Santosh', 'Kaushtub', 'Shubham', 'Narendra', 'Rahul', 'Shraddha', 'Nutan')\n"
          ]
        }
      ],
      "source": [
        "#Find Eligibility using Filter Function\n",
        "\n",
        "#case 1\n",
        "a=[\"Amit\",\"Santosh\",\"Kaushtub\",\"Shubham\",\"ujval\",\"Narendra\",\"Akash\",\"Rahul\",\"Birbal\",\"Akshay\",\"Shraddha\",\"Nutan\"]\n",
        "b=[86,78,60,75,57,70,59,61,57,56,63,66]\n",
        "def eligible(j):\n",
        "    if b[a.index(j)] >= 60:\n",
        "        return True\n",
        "    else:\n",
        "        return False\n",
        "var= filter(eligible,a)\n",
        "print(f\"***| Name of Eligible Candidates on the basis of 12th % |***\")\n",
        "print(tuple(var))\n",
        "\n"
      ]
    },
    {
      "cell_type": "code",
      "source": [
        "#case 2\n",
        "#Find Eligibility for asking single person\n",
        "a=input(\"Enter the Candidate name:\")\n",
        "b=input(\"Enter the marks:\")\n",
        "c=[]\n",
        "c.append(a)\n",
        "d=[]\n",
        "d.append(int(b))\n",
        "def eligible(j):\n",
        "    if d[c.index(j)] >= 60:\n",
        "        return True\n",
        "    else:\n",
        "        return False\n",
        "var= filter(eligible,c)\n",
        "\n",
        "print(f\"***| Name of Eligible Candidates on the basis of 12th % |***\")\n",
        "print(tuple(var))"
      ],
      "metadata": {
        "colab": {
          "base_uri": "https://localhost:8080/"
        },
        "id": "-SFD3yts-BYO",
        "outputId": "ef05bf50-ddc9-4e85-8cef-a9396f08e550"
      },
      "execution_count": 6,
      "outputs": [
        {
          "output_type": "stream",
          "name": "stdout",
          "text": [
            "Enter the Candidate name:amit\n",
            "Enter the marks:69\n",
            "***| Name of Eligible Candidates on the basis of 12th % |***\n",
            "('amit',)\n"
          ]
        }
      ]
    },
    {
      "cell_type": "code",
      "source": [
        "#case 3\n",
        "#Find Eligibility of Single-Single person till Enter for stop\n",
        "a = input(\"Enter the Candidate name:\")\n",
        "b = input(\"Enter the marks:\")\n",
        "c = []\n",
        "d = []\n",
        "\n",
        "def eligible(j):\n",
        "    if d[c.index(j)] >= 60:\n",
        "        return True\n",
        "    else:\n",
        "        return False\n",
        "var= filter(eligible,c)\n",
        "while a!=\"\" and b!=\"\":\n",
        "    c.append(a)\n",
        "    d.append(int(b))\n",
        "    a = input(\"Enter the Candidate name:\")\n",
        "    b = input(\"Enter the marks:\")\n",
        "else:\n",
        "    print(\"end\")\n",
        "print(f\"***| Name of Eligible Candidates on the basis of 12th % |***\")\n",
        "print(list(var))"
      ],
      "metadata": {
        "colab": {
          "base_uri": "https://localhost:8080/"
        },
        "id": "TuqAIDZD-HUC",
        "outputId": "8fb12b02-48d7-4a42-87c6-cb61a728e910"
      },
      "execution_count": 2,
      "outputs": [
        {
          "output_type": "stream",
          "name": "stdout",
          "text": [
            "Enter the Candidate name:amit\n",
            "Enter the marks:69\n",
            "Enter the Candidate name:rakesh\n",
            "Enter the marks:66\n",
            "Enter the Candidate name:prakash\n",
            "Enter the marks:57\n",
            "Enter the Candidate name:\n",
            "Enter the marks:\n",
            "end\n",
            "***| Name of Eligible Candidates on the basis of 12th % |***\n",
            "['amit', 'rakesh']\n"
          ]
        }
      ]
    }
  ]
}