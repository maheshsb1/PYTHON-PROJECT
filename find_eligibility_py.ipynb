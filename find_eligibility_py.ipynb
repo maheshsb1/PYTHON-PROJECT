{
  "nbformat": 4,
  "nbformat_minor": 0,
  "metadata": {
    "colab": {
      "name": "find_eligibility.py",
      "provenance": [],
      "authorship_tag": "ABX9TyPu5J4lnoXRNWBHwdpK+NUC",
      "include_colab_link": true
    },
    "kernelspec": {
      "name": "python3",
      "display_name": "Python 3"
    },
    "language_info": {
      "name": "python"
    }
  },
  "cells": [
    {
      "cell_type": "markdown",
      "metadata": {
        "id": "view-in-github",
        "colab_type": "text"
      },
      "source": [
        "<a href=\"https://colab.research.google.com/github/maheshsb1/PYTHON-PROJECT/blob/main/find_eligibility_py.ipynb\" target=\"_parent\"><img src=\"https://colab.research.google.com/assets/colab-badge.svg\" alt=\"Open In Colab\"/></a>"
      ]
    },
    {
      "cell_type": "markdown",
      "source": [
        "#Find Eligibility using Filter Function"
      ],
      "metadata": {
        "id": "89StrJ-1hAa0"
      }
    },
    {
      "cell_type": "code",
      "execution_count": null,
      "metadata": {
        "id": "I7d6xqDzg7kq"
      },
      "outputs": [],
      "source": [
        "#Filter\n",
        "'''a=[\"A\",\"B\",\"C\",\"D\"]\n",
        "b=[80,58,50,66]\n",
        "def eligible(j):\n",
        "    i=a.index(j)#i store the index position &# j is changing value of a\n",
        "    if b[i] >= 60:\n",
        "        return True\n",
        "    else:\n",
        "        return False\n",
        "var= filter(eligible,a)\n",
        "print(\"Name of Eligible Candidates are\")\n",
        "print(list(var))\n",
        "'''\n",
        "\n",
        "\n",
        "'''a=[\"Amit\",\"Santosh\",\"Kaushtub\",\"Shubham\",\"ujval\",\"Narendra\",\"Akash\",\"Rahul\",\"Birbal\",\"Akshay\",\"Shraddha\",\"Nutan\"]\n",
        "b=[86,78,60,75,57,70,59,61,57,56,63,66]\n",
        "def eligible(j):\n",
        "    if b[a.index(j)] >= 60:\n",
        "        return True\n",
        "    else:\n",
        "        return False\n",
        "var= filter(eligible,a)\n",
        "print(f\"***| Name of Eligible Candidates on the basis of 12th % |***\")\n",
        "print(tuple(var))\n",
        "'''\n",
        "\n",
        "#for asking single person by giving input\n",
        "'''a=input(\"Enter the Candidate name:\")\n",
        "b=input(\"Enter the marks:\")\n",
        "c=[]\n",
        "c.append(a)\n",
        "d=[]\n",
        "d.append(int(b))\n",
        "def eligible(j):\n",
        "    if d[c.index(j)] >= 60:\n",
        "        return True\n",
        "    else:\n",
        "        return False\n",
        "var= filter(eligible,c)\n",
        "print(f\"***| Name of Eligible Candidates on the basis of 12th % |***\")\n",
        "print(tuple(var))\n",
        "'''\n",
        "\n",
        "\n",
        "\n",
        "#filter run till stop\n",
        "a = input(\"Enter the Candidate name:\")\n",
        "b = input(\"Enter the marks:\")\n",
        "c = []\n",
        "d = []\n",
        "\n",
        "def eligible(j):\n",
        "    if d[c.index(j)] >= 60:\n",
        "        return True\n",
        "    else:\n",
        "        return False\n",
        "var= filter(eligible,c)\n",
        "while a!=\"\" and b!=\"\":\n",
        "    c.append(a)\n",
        "    d.append(int(b))\n",
        "    a = input(\"Enter the Candidate name:\")\n",
        "    b = input(\"Enter the marks:\")\n",
        "else:\n",
        "    print(\"end\")\n",
        "print(f\"***| Name of Eligible Candidates on the basis of 12th % |***\")\n",
        "print(tuple(var))"
      ]
    }
  ]
}