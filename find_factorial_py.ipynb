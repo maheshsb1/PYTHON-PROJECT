{
  "nbformat": 4,
  "nbformat_minor": 0,
  "metadata": {
    "colab": {
      "name": "find_factorial.py",
      "provenance": [],
      "collapsed_sections": [],
      "authorship_tag": "ABX9TyOQHkzr3yNP5PmZqJ6MI/QI",
      "include_colab_link": true
    },
    "kernelspec": {
      "name": "python3",
      "display_name": "Python 3"
    },
    "language_info": {
      "name": "python"
    }
  },
  "cells": [
    {
      "cell_type": "markdown",
      "metadata": {
        "id": "view-in-github",
        "colab_type": "text"
      },
      "source": [
        "<a href=\"https://colab.research.google.com/github/maheshsb1/PYTHON-PROJECT/blob/main/find_factorial_py.ipynb\" target=\"_parent\"><img src=\"https://colab.research.google.com/assets/colab-badge.svg\" alt=\"Open In Colab\"/></a>"
      ]
    },
    {
      "cell_type": "markdown",
      "source": [
        "#Find Factorial \n",
        "eg. 5!=5x4x3x2x1 \n",
        "    Ans => 120"
      ],
      "metadata": {
        "id": "iQb_ikmN1Q7C"
      }
    },
    {
      "cell_type": "markdown",
      "source": [
        "Finding Factorial By using for loop"
      ],
      "metadata": {
        "id": "BvIsDK-507aq"
      }
    },
    {
      "cell_type": "code",
      "execution_count": 5,
      "metadata": {
        "colab": {
          "base_uri": "https://localhost:8080/"
        },
        "id": "E1cqVIqF0h1V",
        "outputId": "0f2ebfa6-f75f-436e-d412-750872480d07"
      },
      "outputs": [
        {
          "output_type": "stream",
          "name": "stdout",
          "text": [
            "Enter a No. To find Factorial: 10\n",
            "3628800\n"
          ]
        }
      ],
      "source": [
        "x=input(\"Enter a No. To find Factorial: \")\n",
        "x=int(x)\n",
        "def fact(n):\n",
        "  f=1\n",
        "  \n",
        "  for i in range(1,n+1):\n",
        "    f=f*i\n",
        "\n",
        "  return f\n",
        "\n",
        "result=fact(x)\n",
        "print(result)"
      ]
    },
    {
      "cell_type": "markdown",
      "source": [
        "Finding Factorial using Recursion"
      ],
      "metadata": {
        "id": "lwlqdlSP3S2Q"
      }
    },
    {
      "cell_type": "code",
      "source": [
        "x=int(input(\"Enter a No. To find Factorial: \"))\n",
        "def fact(n):\n",
        "\n",
        "  if n==0:\n",
        "    return 1\n",
        "  \n",
        "  return n*(fact(n-1))\n",
        "\n",
        "result =fact(x)\n",
        "print(result)"
      ],
      "metadata": {
        "colab": {
          "base_uri": "https://localhost:8080/"
        },
        "id": "WjwsFVpL3bsB",
        "outputId": "3ce19dcc-3840-4c45-edd1-102fecf0313e"
      },
      "execution_count": 6,
      "outputs": [
        {
          "output_type": "stream",
          "name": "stdout",
          "text": [
            "Enter a No. To find Factorial: 10\n",
            "3628800\n"
          ]
        }
      ]
    }
  ]
}