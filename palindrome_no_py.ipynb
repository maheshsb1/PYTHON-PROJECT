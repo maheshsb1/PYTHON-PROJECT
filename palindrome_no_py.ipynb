{
  "nbformat": 4,
  "nbformat_minor": 0,
  "metadata": {
    "colab": {
      "name": "palindrome_no.py",
      "provenance": [],
      "collapsed_sections": [],
      "authorship_tag": "ABX9TyOuOzuJ1r4FsOAk5is9txMo",
      "include_colab_link": true
    },
    "kernelspec": {
      "name": "python3",
      "display_name": "Python 3"
    },
    "language_info": {
      "name": "python"
    }
  },
  "cells": [
    {
      "cell_type": "markdown",
      "metadata": {
        "id": "view-in-github",
        "colab_type": "text"
      },
      "source": [
        "<a href=\"https://colab.research.google.com/github/maheshsb1/PYTHON-PROJECT/blob/main/palindrome_no_py.ipynb\" target=\"_parent\"><img src=\"https://colab.research.google.com/assets/colab-badge.svg\" alt=\"Open In Colab\"/></a>"
      ]
    },
    {
      "cell_type": "markdown",
      "source": [
        "#Checking Palindrome No. "
      ],
      "metadata": {
        "id": "SaXjWvU8jFHT"
      }
    },
    {
      "cell_type": "code",
      "source": [
        "#Palindrome No.\n",
        "#palindrome no. for one time\n",
        "'''def pali(a):\n",
        "    a=int(a)\n",
        "    rev_num = 0\n",
        "    while (a != 0):\n",
        "        remainder = a % 10\n",
        "        rev_num = rev_num * 10 + remainder\n",
        "        a = a // 10\n",
        "    return rev_num\n",
        "\n",
        "a= input(\"Enter a No. to check Palindrome :\")\n",
        "rev_num = pali(a)\n",
        "\n",
        "if (int(a) == rev_num):\n",
        "    print(f\"{a} is a Palindrome no.\")\n",
        "\n",
        "else:\n",
        "    print(f\"{a} is not a Palindrome no.\")\n",
        "   '''\n",
        "#Palindrome No. to check many no.\n",
        "def sprog():\n",
        "    print(\"# \"*10+\" Start Of the Programme \"+\" #\"*10)\n",
        "def eprog():\n",
        "    print(\"# \"*10+\" End Of the Programme \"+\" #\"*10)\n",
        "def pali(a):\n",
        "    a=int(a)\n",
        "    rev_num = 0\n",
        "    while (a != 0):\n",
        "        a=int(a)\n",
        "        remainder = a % 10\n",
        "        rev_num = rev_num * 10 + remainder\n",
        "        a = a // 10\n",
        "    return rev_num\n",
        "sprog()\n",
        "a= input(\"Enter a No. to check Palindrome :\")\n",
        "rev_num = pali(a)\n",
        "while a!=\"\":#blank (\"\")is given as condition so that programme can stop if a=\"\" (just by press Enter button)\n",
        "    if a.isnumeric()==True:\n",
        "        a=int(a)\n",
        "        var=pali(a)\n",
        "        if (int(a) == var):\n",
        "            print(f\"{a} is a Palindrome no.\")\n",
        "        else:\n",
        "            print(f\"{a} is not a Palindrome no.\")\n",
        "    else:\n",
        "        print(\"Please Enter a valid Integer\")\n",
        "    a= input(\"Enter a No. to check Palindrome or Press Enter button to Stop programme :\")\n",
        "else:\n",
        "    eprog()"
      ],
      "metadata": {
        "id": "i6bKTIrNjCZk"
      },
      "execution_count": null,
      "outputs": []
    }
  ]
}