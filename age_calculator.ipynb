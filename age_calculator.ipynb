{
  "nbformat": 4,
  "nbformat_minor": 0,
  "metadata": {
    "colab": {
      "name": "age calculator.ipynb",
      "provenance": [],
      "collapsed_sections": [],
      "authorship_tag": "ABX9TyP5Tb3+zTwWkoARZpmdeGwM",
      "include_colab_link": true
    },
    "kernelspec": {
      "name": "python3",
      "display_name": "Python 3"
    },
    "language_info": {
      "name": "python"
    }
  },
  "cells": [
    {
      "cell_type": "markdown",
      "metadata": {
        "id": "view-in-github",
        "colab_type": "text"
      },
      "source": [
        "<a href=\"https://colab.research.google.com/github/maheshsb1/PYTHON-PROJECT/blob/Simple-Projects/age_calculator.ipynb\" target=\"_parent\"><img src=\"https://colab.research.google.com/assets/colab-badge.svg\" alt=\"Open In Colab\"/></a>"
      ]
    },
    {
      "cell_type": "code",
      "metadata": {
        "colab": {
          "base_uri": "https://localhost:8080/"
        },
        "id": "0KYiKkss6x69",
        "outputId": "dec84785-6974-42a8-cbe7-a99c9c1bf24c"
      },
      "source": [
        "# age calculator(using simple arithematics operation)\n",
        "\n",
        "year1 = int(input(\"Enter the Birth Year: \"))\n",
        "month1 = int(input(\"Enter the Birth Month: \"))\n",
        "date1 = int(input(\"Enter the Birth Date: \"))\n",
        "year2 = int(input(\"Enter the Current Year: \"))\n",
        "month2 = int(input(\"Enter the Current Month: \"))\n",
        "date2 = int(input(\"Enter the Current Date: \"))\n",
        "\n",
        "year=(year2-year1)\n",
        "month=(month2-month1)\n",
        "date=(date2-date1)\n",
        "\n",
        "print('Your Current age is(years,months,days):',year,month,date)\n",
        "                           "
      ],
      "execution_count": null,
      "outputs": [
        {
          "output_type": "stream",
          "name": "stdout",
          "text": [
            "Enter the Birth Year: 1997\n",
            "Enter the Birth Month: 7\n",
            "Enter the Birth Date: 21\n",
            "Enter the Current Year: 2021\n",
            "Enter the Current Month: 10\n",
            "Enter the Current Date: 30\n",
            "Your Current age is(years,months,days): 24 3 9\n"
          ]
        }
      ]
    }
  ]
}