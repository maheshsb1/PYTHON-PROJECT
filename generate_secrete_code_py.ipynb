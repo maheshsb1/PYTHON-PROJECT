{
  "nbformat": 4,
  "nbformat_minor": 0,
  "metadata": {
    "colab": {
      "name": "generate_secrete_code.py",
      "provenance": [],
      "authorship_tag": "ABX9TyPbM7ePe8hswdwCPHlLan1a",
      "include_colab_link": true
    },
    "kernelspec": {
      "name": "python3",
      "display_name": "Python 3"
    },
    "language_info": {
      "name": "python"
    }
  },
  "cells": [
    {
      "cell_type": "markdown",
      "metadata": {
        "id": "view-in-github",
        "colab_type": "text"
      },
      "source": [
        "<a href=\"https://colab.research.google.com/github/maheshsb1/PYTHON-PROJECT/blob/main/generate_secrete_code_py.ipynb\" target=\"_parent\"><img src=\"https://colab.research.google.com/assets/colab-badge.svg\" alt=\"Open In Colab\"/></a>"
      ]
    },
    {
      "cell_type": "markdown",
      "source": [
        "#Generate Secrete Code\n",
        "It's a code such that user will enter his/her name and surname as a input and code will generate secrete code on the basis of name and surname."
      ],
      "metadata": {
        "id": "9d-IjlpUYZOo"
      }
    },
    {
      "cell_type": "code",
      "execution_count": null,
      "metadata": {
        "id": "PI4MY2KfYXeQ"
      },
      "outputs": [],
      "source": [
        "#project for secrete code\n",
        "a_dict_personal_code={}\n",
        "a_dict_hard_coded_values={\"A\":1,\"B\":2,\"C\":3,\"D\":4,\"E\":5,\"F\":6,\"G\":7,\"H\":8,\"I\":9,\"J\":10,\"K\":11,\"L\":12,\"M\":13,\"N\":14,\"O\":15,\"P\":16,\"Q\":17,\"R\":18,\"S\":19,\"T\":20,\"U\":21,\"V\":22,\"W\":23,\"X\":24,\"Y\":25,\"Z\":26}\n",
        "b_list_name_surname = []\n",
        "b_list_ind_char = []\n",
        "b_list_unique = []\n",
        "dummy=[]\n",
        "user_input_1 = input(\"enter your name and surname in capital letters seperated with @ or type 'Quit' to stop the code: \")\n",
        "while (user_input_1.capitalize()!=\"Quit\"):\n",
        "    if (user_input_1.count(\"@\")==1):\n",
        "        b_list_name_surname = user_input_1.split(\"@\")\n",
        "        if ((len(b_list_name_surname[0])>=3) or (len(b_list_name_surname[1])>=3)):\n",
        "            pass #or b_list_name_surname\n",
        "        else:\n",
        "            b_list_name_surname=(b_list_name_surname[0]+\"X\"+\"Y\", b_list_name_surname[1]+\"Z\"+\"W\")  \n",
        "# validation for name and surname completed  \n",
        "        b_list_ind_char=(b_list_name_surname[0]+b_list_name_surname[1])\n",
        "        #now using for loop\n",
        "        for i in range(0,len(b_list_name_surname)): \n",
        "            for j in range(0,len(b_list_name_surname[i])):       \n",
        "                if b_list_name_surname[i][j] in dummy:\n",
        "                    pass\n",
        "                else:\n",
        "                    dummy.append(b_list_name_surname[i][j])\n",
        "            if i==0:\n",
        "                name=dummy.copy()\n",
        "                dummy.clear()\n",
        "        surname=dummy.copy()\n",
        "        print(\"Name:\",b_list_name_surname[0])\n",
        "        print(\"Surname:\",b_list_name_surname[1])\n",
        "        for i in range(0,3):\n",
        "            a_dict_personal_code[name[i]] = a_dict_hard_coded_values[name[i]] #user can give input in capital or small letters so it can converted it into capitals by using .upper function\n",
        "        for i in range(0,3):\n",
        "            a_dict_personal_code[surname[i]] = a_dict_hard_coded_values[surname[i]]\n",
        "        user_input_2=input(\"enter a number between 1 to 3: \")\n",
        "        if user_input_2.isnumeric():\n",
        "            if (int(user_input_2)>0) and (int(user_input_2)<4):\n",
        "                user_input_2=int(user_input_2)\n",
        "            else:\n",
        "                user_input_2=3\n",
        "        else:\n",
        "            user_input_2=3\n",
        "        secret_key = None #key error occures when name and surname put in single-single letter, bcoz addition of secret key gose more than 26 so it cant fetch so i assign decret_key as \"None\"\n",
        "        secret_code=a_dict_personal_code[name[user_input_2-1]] + a_dict_personal_code[surname[user_input_2-1]]\n",
        "        for key, values in a_dict_hard_coded_values.items():\n",
        "        \n",
        "            if values==secret_code:\n",
        "                key = secret_key \n",
        "            print(\"secret key\", secret_key)\n",
        "            print(\"secret code\", secret_code)\n",
        "            print(f\"{name[user_input_2-1]}{a_dict_hard_coded_values[name[user_input_2-1]]}{surname[user_input_2-1]}{a_dict_hard_coded_values[surname[user_input_2-1]]}{secret_code}{secret_key}\")\n",
        "            break\n",
        "        user_input_1 = input(\"enter your name and surname in capital letters seperated with @ or type 'Quit' to stop the code: \")\n",
        "    else:\n",
        "        print(\"Wrong input, Try again letter\")\n",
        "        user_input_1 = input(\"enter your name and surname in capital letters seperated with @ or type 'Quit' to stop the code: \")\n",
        "else:\n",
        "    print(\"Program Ends Thank you for using our code\")\n",
        "    \n"
      ]
    }
  ]
}