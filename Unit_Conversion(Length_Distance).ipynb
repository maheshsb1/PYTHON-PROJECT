{
  "nbformat": 4,
  "nbformat_minor": 0,
  "metadata": {
    "colab": {
      "name": "Unit Conversion(Length/ Distance).ipynb",
      "provenance": [],
      "authorship_tag": "ABX9TyOtcEzJw9EpzzJQmHIjII9W",
      "include_colab_link": true
    },
    "kernelspec": {
      "name": "python3",
      "display_name": "Python 3"
    },
    "language_info": {
      "name": "python"
    }
  },
  "cells": [
    {
      "cell_type": "markdown",
      "metadata": {
        "id": "view-in-github",
        "colab_type": "text"
      },
      "source": [
        "<a href=\"https://colab.research.google.com/github/maheshsb1/PYTHON-PROJECT/blob/main/Unit_Conversion(Length_Distance).ipynb\" target=\"_parent\"><img src=\"https://colab.research.google.com/assets/colab-badge.svg\" alt=\"Open In Colab\"/></a>"
      ]
    },
    {
      "cell_type": "code",
      "metadata": {
        "colab": {
          "base_uri": "https://localhost:8080/"
        },
        "id": "IZcyDSoGc1LL",
        "outputId": "150071a4-d60e-4cdb-ab8a-e0527873232b"
      },
      "source": [
        "#Unit Conversion(Length/ Distance)(mm to other units)\n",
        "\n",
        "\n",
        "unit1 = input('Enter the First Unit: ')\n",
        "unit2 = input('Enter the Second Unit: ')\n",
        "dist = float(input('Enter the Distance: '))\n",
        "\n",
        "if((unit1 == 'mm') & (unit2 == 'cm')):\n",
        "  print('mm to cm :', dist*0.1, 'cm')\n",
        "elif ((unit1 == 'mm') & (unit2 == 'meter')):\n",
        "    print(\"mm to meter:\", dist*0.001,'mtr')\n",
        "elif ((unit1 == 'mm') & (unit2 == 'km')):\n",
        "    print(\"mm to km:\", dist*0.000001,'km')\n",
        "elif ((unit1 == 'mm') & (unit2 == 'micro meter')):\n",
        "    print(\"mm to micro meter:\", dist*1000,'µm')\n",
        "elif ((unit1 == 'mm') & (unit2 == 'nano meter')):\n",
        "    print(\"mm to nano meter\", dist*1000000,'nm')\n",
        "elif ((unit1 == 'mm') & (unit2 == 'mile')):\n",
        "    print(\"mm to miles:\", dist*0.0062137,'miles')\n",
        "elif ((unit1 == 'mm') & (unit2 == 'yard')):\n",
        "    print(\"mm to yard:\", dist*0.00109361,'yard')\n",
        "elif ((unit1 == 'mm') & (unit2 == 'foot')):\n",
        "    print(\"mm to foot:\", dist*0.00328084,'ft')\n",
        "elif ((unit1 == 'mm') & (unit2 == 'inch')):\n",
        "    print(\"mm to inch:\", dist*0.0393701,'inch')\n",
        "elif ((unit1 == 'mm') & (unit2 == 'nautical mile')):\n",
        "    print(\"mm to nautical mile:\", dist*0.0053996,'nautical mile')\n",
        "else:\n",
        "  print(\"Kindly check the unit's Spelling\")\n",
        "\n"
      ],
      "execution_count": 9,
      "outputs": [
        {
          "output_type": "stream",
          "name": "stdout",
          "text": [
            "Enter the First Unit: mm\n",
            "Enter the Second Unit: meter\n",
            "Enter the Distance: 550\n",
            "mm to meter: 0.55 mtr\n"
          ]
        }
      ]
    }
  ]
}