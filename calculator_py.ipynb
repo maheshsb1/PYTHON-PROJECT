{
  "nbformat": 4,
  "nbformat_minor": 0,
  "metadata": {
    "colab": {
      "name": "calculator.py",
      "provenance": [],
      "authorship_tag": "ABX9TyPd2bJMYNHfPDI7GdYHHg/W",
      "include_colab_link": true
    },
    "kernelspec": {
      "name": "python3",
      "display_name": "Python 3"
    },
    "language_info": {
      "name": "python"
    }
  },
  "cells": [
    {
      "cell_type": "markdown",
      "metadata": {
        "id": "view-in-github",
        "colab_type": "text"
      },
      "source": [
        "<a href=\"https://colab.research.google.com/github/maheshsb1/PYTHON-PROJECT/blob/main/calculator_py.ipynb\" target=\"_parent\"><img src=\"https://colab.research.google.com/assets/colab-badge.svg\" alt=\"Open In Colab\"/></a>"
      ]
    },
    {
      "cell_type": "markdown",
      "source": [
        "#Calculator"
      ],
      "metadata": {
        "id": "Pc5hxM2ke6BD"
      }
    },
    {
      "cell_type": "code",
      "execution_count": null,
      "metadata": {
        "id": "HwRtoGcKb2nm"
      },
      "outputs": [],
      "source": [
        "\n",
        "def calci(a,b,operator):\n",
        "    if operator == \"+\":\n",
        "        return add(a, b)\n",
        "    elif operator == \"-\":\n",
        "        return sub(a, b)\n",
        "    elif operator == \"*\":\n",
        "        return multi(a, b)\n",
        "    elif operator == \"/\":\n",
        "        return div(a, b)\n",
        "    elif operator == \"**\":\n",
        "        return power(a, b)\n",
        "    else:\n",
        "        pass\n",
        "a= input(\"Enter a no.\")\n",
        "print(\"Addition:'+',Subtraction:'-',Multiplication:'*',Division:'/',Power:'**'\")\n",
        "operator= input(\"Enter any of above operator Sign:\")\n",
        "b= input(\"Enter a no.\")\n",
        "a=int(a)\n",
        "b=int(b)\n",
        "def add(a, b):\n",
        "    return f\"Addition of {a} and {b} is {a + b}\"\n",
        "def sub(a, b):\n",
        "    return f\"Subtraction of {a} and {b} is {a - b} \"\n",
        "def multi(a, b):\n",
        "    return f\"Multiplication of {a} and {b} is {a * b} \"\n",
        "def div(a, b):\n",
        "    return f\"Division of {a} and {b} is {a / b} \"\n",
        "def power(a, b):\n",
        "    return f\" {a} to the Power of {b} is {a ** b} \"\n",
        "var=calci(a,b,operator)\n",
        "print(var)\n",
        "\n"
      ]
    }
  ]
}