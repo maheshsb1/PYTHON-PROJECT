{
  "nbformat": 4,
  "nbformat_minor": 0,
  "metadata": {
    "colab": {
      "name": "positive/negative Number.ipynb",
      "provenance": [],
      "authorship_tag": "ABX9TyNwyr51fO4EI4qo/Z+3LVSQ",
      "include_colab_link": true
    },
    "kernelspec": {
      "name": "python3",
      "display_name": "Python 3"
    },
    "language_info": {
      "name": "python"
    }
  },
  "cells": [
    {
      "cell_type": "markdown",
      "metadata": {
        "id": "view-in-github",
        "colab_type": "text"
      },
      "source": [
        "<a href=\"https://colab.research.google.com/github/maheshsb1/PYTHON-PROJECT/blob/Simple-Projects/positive_negative_Number.ipynb\" target=\"_parent\"><img src=\"https://colab.research.google.com/assets/colab-badge.svg\" alt=\"Open In Colab\"/></a>"
      ]
    },
    {
      "cell_type": "code",
      "metadata": {
        "colab": {
          "base_uri": "https://localhost:8080/"
        },
        "id": "FXQ8351jCA6A",
        "outputId": "6eb43092-4bf7-420a-dfac-6a6f1c83c24c"
      },
      "source": [
        "#positive/negative Number\n",
        "\n",
        "num = float(input(\"Enter the Number: \"))\n",
        "if num >= 0:\n",
        "    if num == 0:\n",
        "        print(\"Zero\")\n",
        "    else:\n",
        "        print(\"Given Number is Positive \", num)\n",
        "else:\n",
        "    print(\"Given Number is Negative \", num)"
      ],
      "execution_count": 3,
      "outputs": [
        {
          "output_type": "stream",
          "name": "stdout",
          "text": [
            "Enter the Number: -18.5\n",
            "Given Number is Negative  -18.5\n"
          ]
        }
      ]
    }
  ]
}