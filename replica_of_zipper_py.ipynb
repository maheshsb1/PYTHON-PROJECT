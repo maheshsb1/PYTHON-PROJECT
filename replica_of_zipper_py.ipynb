{
  "nbformat": 4,
  "nbformat_minor": 0,
  "metadata": {
    "colab": {
      "name": "replica_of_zipper.py",
      "provenance": [],
      "collapsed_sections": [],
      "authorship_tag": "ABX9TyMxsFzmfbuphvbs5qttHNp6",
      "include_colab_link": true
    },
    "kernelspec": {
      "name": "python3",
      "display_name": "Python 3"
    },
    "language_info": {
      "name": "python"
    }
  },
  "cells": [
    {
      "cell_type": "markdown",
      "metadata": {
        "id": "view-in-github",
        "colab_type": "text"
      },
      "source": [
        "<a href=\"https://colab.research.google.com/github/maheshsb1/PYTHON-PROJECT/blob/main/replica_of_zipper_py.ipynb\" target=\"_parent\"><img src=\"https://colab.research.google.com/assets/colab-badge.svg\" alt=\"Open In Colab\"/></a>"
      ]
    },
    {
      "cell_type": "markdown",
      "source": [
        "#Replica of Zipper Function"
      ],
      "metadata": {
        "id": "U4s06j0pWVLA"
      }
    },
    {
      "cell_type": "code",
      "source": [
        "#create a zipper version 2, bit advance\n",
        "#create a zipper such that it accepts only list as input from user\n",
        "#else programme stop with error msg. the result should show a list with tuple\n",
        "# and all those values which do not exists, it should show None\n",
        "#use: eval for input, then use for loop\n",
        "\n",
        "\n",
        "#code:\n",
        "def zipper(a,b):\n",
        "    c=[]\n",
        "    if len(a) > len(b):\n",
        "        for i in range(len(a) - len(b)):\n",
        "            b.append(None)\n",
        "    elif len(a) < len(b):\n",
        "        for i in range(len(b) - len(a)):\n",
        "            a.append(None)\n",
        "    else:\n",
        "        pass\n",
        "    for i in range(len(a)):\n",
        "        c.append((a[i], b[i]))\n",
        "    return c\n",
        "a= input(\"Enter a 1st List or enter 'Quit' to stop Programme:\")\n",
        "b= input(\"Enter a 2nd List or enter 'Quit' to stop Programme:\")\n",
        "while (a.capitalize()!= \"Quit\")and (b.capitalize()!=\"Quit\"):\n",
        "    if (type(eval(a))) and (type(eval(b))) is list:\n",
        "        a = eval(a)\n",
        "        b = eval(b)\n",
        "        var = zipper(a, b)\n",
        "        print(f\"The desired list of tuple is {var}\")\n",
        "        a = input(\"Enter a 1st List or enter 'Quit' to stop Programme:\")\n",
        "        b = input(\"Enter a 2nd List or enter 'Quit' to stop Programme:\")\n",
        "    else:\n",
        "        print(\"Wrong input given\")\n",
        "        a = input(\"Enter a 1st List or enter 'Quit' to stop Programme:\")\n",
        "        b = input(\"Enter a 2nd List or enter 'Quit' to stop Programme:\")\n",
        "else:\n",
        "    print(\"programme stops\")\n",
        "\n",
        "\n",
        "\n"
      ],
      "metadata": {
        "id": "HaRRnsfuWgR4"
      },
      "execution_count": null,
      "outputs": []
    }
  ]
}