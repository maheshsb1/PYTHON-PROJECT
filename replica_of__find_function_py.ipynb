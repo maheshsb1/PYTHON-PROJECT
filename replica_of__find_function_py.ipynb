{
  "nbformat": 4,
  "nbformat_minor": 0,
  "metadata": {
    "colab": {
      "name": "replica_of _find_function.py",
      "provenance": [],
      "collapsed_sections": [],
      "authorship_tag": "ABX9TyN9nSBFHgEYsV9SB4tjprFC",
      "include_colab_link": true
    },
    "kernelspec": {
      "name": "python3",
      "display_name": "Python 3"
    },
    "language_info": {
      "name": "python"
    }
  },
  "cells": [
    {
      "cell_type": "markdown",
      "metadata": {
        "id": "view-in-github",
        "colab_type": "text"
      },
      "source": [
        "<a href=\"https://colab.research.google.com/github/maheshsb1/PYTHON-PROJECT/blob/main/replica_of__find_function_py.ipynb\" target=\"_parent\"><img src=\"https://colab.research.google.com/assets/colab-badge.svg\" alt=\"Open In Colab\"/></a>"
      ]
    },
    {
      "cell_type": "markdown",
      "source": [
        "#Replica of Find Fuction"
      ],
      "metadata": {
        "id": "k-b8GPt78J2g"
      }
    },
    {
      "cell_type": "code",
      "execution_count": 3,
      "metadata": {
        "colab": {
          "base_uri": "https://localhost:8080/"
        },
        "id": "mzLxoTi78A1U",
        "outputId": "0ba73374-1eda-40b5-f94b-a50dd2392758"
      },
      "outputs": [
        {
          "output_type": "stream",
          "name": "stdout",
          "text": [
            "Enter a single word from \"abcdefgh\" to find Index Position: f\n",
            "Index Position of f from string abcdefgh is : 5\n"
          ]
        }
      ],
      "source": [
        "def find(a,b):\n",
        "    for i in range(len(a)):\n",
        "        if a[i] == b.lower():\n",
        "\n",
        "            return i\n",
        "\n",
        "a=\"abcdefgh\"\n",
        "b= input(f'Enter a single word from \"{a}\" to find Index Position: ')\n",
        "\n",
        "c=find(a,b)\n",
        "print(f\"Index Position of {b} from string {a} is : {c}\")\n"
      ]
    }
  ]
}